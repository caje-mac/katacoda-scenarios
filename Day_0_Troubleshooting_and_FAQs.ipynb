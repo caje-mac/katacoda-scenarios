{
  "metadata": {
    "kernelspec": {
      "language": "python",
      "display_name": "Python 3",
      "name": "python3"
    },
    "language_info": {
      "name": "python",
      "version": "3.10.14",
      "mimetype": "text/x-python",
      "codemirror_mode": {
        "name": "ipython",
        "version": 3
      },
      "pygments_lexer": "ipython3",
      "nbconvert_exporter": "python",
      "file_extension": ".py"
    },
    "kaggle": {
      "accelerator": "none",
      "dataSources": [],
      "dockerImageVersionId": 30786,
      "isInternetEnabled": true,
      "language": "python",
      "sourceType": "notebook",
      "isGpuEnabled": false
    },
    "colab": {
      "name": "Day 0 - Troubleshooting and FAQs",
      "provenance": [],
      "include_colab_link": true
    }
  },
  "nbformat_minor": 0,
  "nbformat": 4,
  "cells": [
    {
      "cell_type": "markdown",
      "metadata": {
        "id": "view-in-github",
        "colab_type": "text"
      },
      "source": [
        "<a href=\"https://colab.research.google.com/github/caje-mac/katacoda-scenarios/blob/main/Day_0_Troubleshooting_and_FAQs.ipynb\" target=\"_parent\"><img src=\"https://colab.research.google.com/assets/colab-badge.svg\" alt=\"Open In Colab\"/></a>"
      ]
    },
    {
      "cell_type": "markdown",
      "source": [
        "# Troubleshooting errors and FAQs\n",
        "\n",
        "This notebook covers some common questions and problems that people may encouter while following the material in the Kaggle 5-day Generative AI intensive course. It is not intended to be part of the coursework but please check here for your problem before asking in the Discord or posting elsewhere."
      ],
      "metadata": {
        "id": "9YKK9F8Opl1t"
      }
    },
    {
      "cell_type": "markdown",
      "source": [
        "## FAQs\n",
        "\n",
        "### How do I submit the coursework?\n",
        "\n",
        "You don't need to! To receive the course badge, you only need to submit the *capstone project* that will be announced on Friday (4/4).\n",
        "\n",
        "The capstone project will use knowledge you learn from the codelabs, so we recommend running through them all, but you don't have to submit anything directly from the codelabs, and it's OK if you used a different email to sign up to the course.\n",
        "\n",
        "### How long do I have to do the coursework?\n",
        "\n",
        "You are encouraged to do the coursework on the day it is released, as this allows you to ask questions that may be answered in the livestream, and get help from others that are focused on the same problems, but you are not required to do this. The coursework is not planned to be removed so you can go at your own pace. You can download the PDFs too, so you can read them offline at any time.\n",
        "\n",
        "### I've done everything for today, what can I do next?\n",
        "\n",
        "The main thing you can do is to read the whitepaper you were sent, or listen to the podcast version of it. If you've done that and are looking for extension work, check out the recommendations at the end of each codelab. You can also find more codelabs in the [Gemini API Cookbook](https://github.com/google-gemini/cookbook), as well as the [Gemini API documentation site](https://ai.google.dev/gemini-api).\n",
        "\n",
        "### Will I get charged for using this API key?\n",
        "\n",
        "By default, AI Studio will set you up on the free tier. You can check which tier your key is on through the [API key page in AI Studio](https://aistudio.google.com/app/apikey). You may be on a pay-as-you-go tier if you added a key to a Google Cloud project that already has billing enabled. To make it free, you can create a new project, do not set up billing (or remove it in the Cloud Console), and create the API key in that project.\n",
        "\n",
        "See [the billing docs](https://ai.google.dev/gemini-api/docs/billing) for more information on how to enable or disable billing.\n",
        "\n",
        "This is what the free/paid options look like in AI Studio:\n",
        "\n",
        "![](https://storage.googleapis.com/generativeai-downloads/kaggle/ais_key2.png)\n"
      ],
      "metadata": {
        "id": "nAdRvRBZpl1v"
      }
    },
    {
      "cell_type": "markdown",
      "source": [
        "## Errors\n",
        "\n",
        "### This phone number can't be verified on Kaggle\n",
        "\n",
        "If you are getting an error when trying to verify your phone number on Kaggle, ensure your phone is not signed up for the Do-Not-Call registry and double check your country code and area code are entered correctly. Ensure your phone number is not from a region sanctioned by the US government. If you are still having issues contact Kaggle support by filling out the form here: https://www.kaggle.com/contact#/account/activate/phone"
      ],
      "metadata": {
        "id": "KwOKT6J_pl1w"
      }
    },
    {
      "cell_type": "markdown",
      "source": [
        "### No internet access\n",
        "\n",
        "This error may manifest in a number of ways. Here are some examples:\n",
        "\n",
        "* When accessing a Kaggle secret: `ConnectionError: Connection error trying to communicate with service`\n",
        "* When running pip install: `HTTPSConnection ...: Failed to establish a new connection: \\[Errno -3] Temporary failure in name resolution'`\n",
        "* `TransportError: Failed to retrieve http://metadata.google.internal/computeMetadata/v1/universe/universe_domain from the Google Compute Engine metadata service`\n",
        "* `400 Use of API-based models is not allowed for Internet-disabled notebooks`\n",
        "\n",
        "You can confirm that you have this error by creating a new code cell in the affected notebook and running this code:\n",
        "\n",
        "```bash\n",
        "!curl ipinfo.io\n",
        "```\n",
        "\n",
        "If you see `curl: (6) Could not resolve host: ipinfo.io`, then your notebook does not have internet access.\n",
        "\n",
        "#### Possible causes\n",
        "\n",
        "* Make sure you are signed in to Kaggle\n",
        "* Make sure your phone number is verified in your Kaggle account at kaggle.com/settings.\n",
        "\n",
        "    ![phone verify](https://storage.googleapis.com/kaggle-media/Images/5dgai_0.png)\n",
        "\n",
        "* Make sure the notebook has internet enabled:\n",
        "  * Find the switch by turning on the notebook sidebar\n",
        "    \n",
        "    ![enable sidebar](attachment:00c9a670-7c26-4ef8-bba9-614516953bbf.png)\n",
        "\n",
        "  * Then find this button in the sidebar\n",
        "    \n",
        "    ![enable internet](attachment:52f48b43-b51e-46df-90b0-7c2d804800db.png)\n",
        "\n",
        "* If `!curl ipinfo.io` still fails, you may need to refresh your browser tab and wait a few minutes.\n",
        "* Or, if you've done everything above, try a **🔁 Factory reset** of the notebook. If the factory reset works, please report this on Discord."
      ],
      "metadata": {
        "id": "oXCiLF-9pl1x"
      }
    },
    {
      "cell_type": "markdown",
      "source": [
        "### ResourceExhausted: 429 Resource has been exhausted\n",
        "\n",
        "Each Gemini API mode has a dedicated per-minute quota. You can find the details for each model on the [Pricing page](https://ai.google.dev/gemini-api/docs/rate-limits). When you exceed this limit within a 60-second window, you will see the `ResourceExhausted` error.\n",
        "\n",
        "To fix it, you can wait up to 60 seconds and retry your request. To fix it in code you can try a few things.\n",
        "\n",
        "1. **Edit the prompt**\n",
        "\n",
        "Over-use of specific prompts can sometimes cause throttling. Try changing the words in the prompt slightly and try again.  e.g. `Pick a random colour... (respond in a single word)` can change to `Pick a random colour... (give me a single word)`\n",
        "\n",
        "2. **Set up a retry policy**.\n",
        "\n",
        "You can wrap calls to `generate_content` with a retry decorator.\n",
        "\n",
        "```python\n",
        "from google.api_core import retry\n",
        "\n",
        "is_retriable = lambda e: (isinstance(e, genai.errors.APIError) and e.code in {429, 503})\n",
        "\n",
        "@retry.Retry(predicate=is_retriable)\n",
        "def generate_content(**kwargs):\n",
        "  return client.models.generate_content(**kwargs)\n",
        "\n",
        "generate_content(model=..., contents=...)\n",
        "```\n",
        "\n",
        "The retry policy has a number of parameters, e.g.\n",
        "\n",
        "```python\n",
        "from google.api_core import retry\n",
        "\n",
        "@retry.Retry(\n",
        "    predicate=is_retriable,\n",
        "    initial=10,      # Number of seconds to delay first retry (default 1.0)\n",
        "    multiplier=1.2,  # Factor to increase the delay each retry (default 2.0)\n",
        "    timeout=300)     # Total retry duration in seconds (default 120.0)\n",
        "}\n",
        "def generate_content(...):\n",
        "    ...\n",
        "```\n",
        "\n",
        "Read more in the [Error handling guide](https://github.com/google-gemini/cookbook/blob/main/quickstarts/Error_handling.ipynb).\n",
        "\n",
        "3. **Enable billing**\n",
        "\n",
        "If you wish, you can enable billing to enable the paid tier of quota. Be sure to read the [pricing page](https://ai.google.dev/gemini-api/docs/pricing) to find out how much it costs, the [rate limits page](https://ai.google.dev/gemini-api/docs/rate-limits) to see the limits, and the [billing page](https://ai.google.dev/gemini-api/docs/billing) for details on how to turn billing on or off.\n",
        "\n",
        "Note that billing is not required for this course, but if you wish to use higher quota, this is one way of doing so.\n"
      ],
      "metadata": {
        "id": "XEBAjyfupl1y"
      }
    },
    {
      "cell_type": "markdown",
      "source": [
        "### API keys\n",
        "\n",
        "#### Get an API key\n",
        "\n",
        "Open the API key page in AI Studio: https://aistudio.google.com/apikey\n",
        "\n",
        "![](https://storage.googleapis.com/generativeai-downloads/kaggle/ais_key1.png)\n",
        "\n",
        "#### Add your API key to the notebook\n",
        "\n",
        "To use your API key, you add it to your Kaggle Notebook as a Kaggle User Secret.\n",
        "\n",
        "![](https://storage.googleapis.com/kaggle-media/Images/5dgai_1.png)\n",
        "![](https://storage.googleapis.com/kaggle-media/Images/5dgai_2.png)\n",
        "![](https://storage.googleapis.com/kaggle-media/Images/5dgai_3.png)\n",
        "![](https://storage.googleapis.com/kaggle-media/Images/5dgai_4.png)\n",
        "\n"
      ],
      "metadata": {
        "id": "_BnXs3Uupl1z"
      }
    },
    {
      "cell_type": "markdown",
      "source": [
        "### InvalidArgument or invalid API key\n",
        "\n",
        "This may happen if you have copied only part of the API key, or copied some extra characters. **After running the Secrets cell**, add a new code cell and run this:\n",
        "\n",
        "```python\n",
        "print(f'{len(GOOGLE_API_KEY)=}, {GOOGLE_API_KEY[:4]=}, {GOOGLE_API_KEY[-4:]=}')\n",
        ">>> len(GOOGLE_API_KEY)=39, GOOGLE_API_KEY[:4]='AIza', GOOGLE_API_KEY[-4:]='7E14'\n",
        "```\n",
        "\n",
        "The output should be similar to the above. The first 4 characters will be `AIza`, the last four could be any alphanumeric characters, and the length should be around 35-40 characters. If you have anything different, follow the steps above to add your API key from AI Studio to Kaggle Secrets again."
      ],
      "metadata": {
        "id": "TME3HvE9pl10"
      }
    },
    {
      "cell_type": "markdown",
      "source": [
        "### Note: you may need to restart the kernel to use updated packages\n",
        "\n",
        "This is an informative note. You do not need to restart the kernel as a result of any `pip install` steps in this course. If you hit an error that is not covered here already, you can restart the kernel by choosing `Run` -> `Restart & clear cell outputs`, or try a **🔁 Factory reset**."
      ],
      "metadata": {
        "id": "LLyFchqnpl10"
      }
    },
    {
      "cell_type": "markdown",
      "source": [
        "### Could not find a version that satisfies the requirement google-genai==1.7.0\n",
        "\n",
        "This can be caused by running a notebook that does not have internet enabled. Check the \"No internet access\" section above. If that doesn't work, try a **🔁 Factory reset**."
      ],
      "metadata": {
        "id": "7DjjqhYSpl11"
      }
    },
    {
      "cell_type": "markdown",
      "source": [
        "### WARNING: Skipping jupyterlab as it is not installed.\n",
        "\n",
        "This is just a warning. It happened because you ran `pip uninstall` more than once. The first time it ran, it ran successfully, the second time it ran, it had nothing to uninstall so it produced this error.\n",
        "\n",
        "Nothing is wrong, you can continue on with the codelab."
      ],
      "metadata": {
        "id": "X_uGRbEApl11"
      }
    }
  ]
}