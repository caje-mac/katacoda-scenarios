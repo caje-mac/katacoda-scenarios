{
  "metadata": {
    "kernelspec": {
      "name": "python3",
      "display_name": "Python 3",
      "language": "python"
    },
    "language_info": {
      "name": "python",
      "version": "3.10.14",
      "mimetype": "text/x-python",
      "codemirror_mode": {
        "name": "ipython",
        "version": 3
      },
      "pygments_lexer": "ipython3",
      "nbconvert_exporter": "python",
      "file_extension": ".py"
    },
    "colab": {
      "toc_visible": true,
      "name": "Day 1 - Prompting",
      "provenance": [],
      "include_colab_link": true
    },
    "kaggle": {
      "accelerator": "none",
      "dataSources": [],
      "dockerImageVersionId": 30786,
      "isInternetEnabled": true,
      "language": "python",
      "sourceType": "notebook",
      "isGpuEnabled": false
    }
  },
  "nbformat_minor": 0,
  "nbformat": 4,
  "cells": [
    {
      "cell_type": "markdown",
      "metadata": {
        "id": "view-in-github",
        "colab_type": "text"
      },
      "source": [
        "<a href=\"https://colab.research.google.com/github/caje-mac/katacoda-scenarios/blob/main/Day_1_Prompting.ipynb\" target=\"_parent\"><img src=\"https://colab.research.google.com/assets/colab-badge.svg\" alt=\"Open In Colab\"/></a>"
      ]
    },
    {
      "cell_type": "markdown",
      "source": [
        "##### Copyright 2025 Google LLC."
      ],
      "metadata": {
        "id": "jkxRSYjzA1oX"
      }
    },
    {
      "cell_type": "code",
      "source": [
        "# @title Licensed under the Apache License, Version 2.0 (the \"License\");\n",
        "# you may not use this file except in compliance with the License.\n",
        "# You may obtain a copy of the License at\n",
        "#\n",
        "# https://www.apache.org/licenses/LICENSE-2.0\n",
        "#\n",
        "# Unless required by applicable law or agreed to in writing, software\n",
        "# distributed under the License is distributed on an \"AS IS\" BASIS,\n",
        "# WITHOUT WARRANTIES OR CONDITIONS OF ANY KIND, either express or implied.\n",
        "# See the License for the specific language governing permissions and\n",
        "# limitations under the License."
      ],
      "metadata": {
        "cellView": "form",
        "id": "5u5OZ2ShA3BA",
        "jupyter": {
          "source_hidden": true
        },
        "trusted": true,
        "execution": {
          "iopub.status.busy": "2025-03-31T10:03:40.865029Z",
          "iopub.execute_input": "2025-03-31T10:03:40.865454Z",
          "iopub.status.idle": "2025-03-31T10:03:40.871949Z",
          "shell.execute_reply.started": "2025-03-31T10:03:40.865391Z",
          "shell.execute_reply": "2025-03-31T10:03:40.870628Z"
        }
      },
      "outputs": [],
      "execution_count": null
    },
    {
      "cell_type": "markdown",
      "source": [
        "# Day 1 - Prompting\n",
        "\n",
        "Welcome to the Kaggle 5-day Generative AI course!\n",
        "\n",
        "This notebook will show you how to get started with the Gemini API and walk you through some of the example prompts and techniques that you can also read about in the Prompting whitepaper. You don't need to read the whitepaper to use this notebook, but the papers will give you some theoretical context and background to complement this interactive notebook.\n",
        "\n",
        "\n",
        "## Before you begin\n",
        "\n",
        "In this notebook, you'll start exploring prompting using the Python SDK and AI Studio. For some inspiration, you might enjoy exploring some apps that have been built using the Gemini family of models. Here are a few that we like, and we think you will too.\n",
        "\n",
        "* [TextFX](https://textfx.withgoogle.com/) is a suite of AI-powered tools for rappers, made in collaboration with Lupe Fiasco,\n",
        "* [SQL Talk](https://sql-talk-r5gdynozbq-uc.a.run.app/) shows how you can talk directly to a database using the Gemini API,\n",
        "* [NotebookLM](https://notebooklm.google/) uses Gemini models to build your own personal AI research assistant.\n",
        "\n",
        "\n",
        "## For help\n",
        "\n",
        "**Common issues are covered in the [FAQ and troubleshooting guide](https://www.kaggle.com/code/markishere/day-0-troubleshooting-and-faqs).**\n",
        "\n",
        "## New for Gemini 2.0!\n",
        "\n",
        "This course material was first launched in November 2024. The AI and LLM space is moving incredibly fast, so we have made some updates to use the latest models and capabilities.\n",
        "\n",
        "* These codelabs have been updated to use the Gemini 2.0 family of models.\n",
        "* The Python SDK has been updated from `google-generativeai` to the new, unified [`google-genai`](https://pypi.org/project/google-genai) SDK.\n",
        "  * This new SDK works with both the developer Gemini API as well as Google Cloud Vertex AI, and switching is [as simple as changing some fields](https://pypi.org/project/google-genai/#:~:text=.Client%28%29-,API%20Selection,-By%20default%2C%20the).\n",
        "* New model capabilities have been added to the relevant codelabs, such as \"thinking mode\" in this lab.\n",
        "* Day 1 includes a new [Evaluation codelab](https://www.kaggle.com/code/markishere/day-1-evaluation-and-structured-output)."
      ],
      "metadata": {
        "id": "csNPnkuCobmG"
      }
    },
    {
      "cell_type": "markdown",
      "source": [
        "## Get started with Kaggle notebooks\n",
        "\n",
        "If this is your first time using a Kaggle notebook, welcome! You can read about how to use Kaggle notebooks [in the docs](https://www.kaggle.com/docs/notebooks).\n",
        "\n",
        "First, you will need to phone verify your account at kaggle.com/settings.\n",
        "\n",
        "![](https://storage.googleapis.com/kaggle-media/Images/5dgai_0.png)"
      ],
      "metadata": {
        "id": "f00ea7c99e44"
      }
    },
    {
      "cell_type": "markdown",
      "source": [
        "To run this notebook, as well as the others in this course, you will need to make a copy, or fork, the notebook. Look for the `Copy and Edit` button in the top-right, and **click it** to make an editable, private copy of the notebook. It should look like this one:\n",
        "\n",
        "![Copy and Edit button](https://storage.googleapis.com/kaggle-media/Images/5gdai_sc_1.png)\n",
        "\n",
        "Your copy will now have a ▶️ **Run** button next to each code cell that you can press to execute that cell. These notebooks are expected to be run in order from top-to-bottom, but you are encouraged to add new cells, run your own code and explore. If you get stuck, you can try the `Factory reset` option in the `Run` menu, or head back to the original notebook and make a fresh copy.\n",
        "\n",
        "![Run cell button](https://storage.googleapis.com/kaggle-media/Images/5gdai_sc_2.png)\n",
        "\n",
        "### Problems?\n",
        "\n",
        "If you have any problems, head over to the [Kaggle Discord](https://discord.com/invite/kaggle), find the [`#5dgai-q-and-a` channel](https://discord.com/channels/1101210829807956100/1303438695143178251) and ask for help."
      ],
      "metadata": {
        "id": "KgdhkoJ4o9dR"
      }
    },
    {
      "cell_type": "markdown",
      "source": [
        "## Get started with the Gemini API\n",
        "\n",
        "All of the exercises in this notebook will use the [Gemini API](https://ai.google.dev/gemini-api/) by way of the [Python SDK](https://pypi.org/project/google-genai/). Each of these prompts can be accessed directly in [Google AI Studio](https://aistudio.google.com/) too, so if you would rather use a web interface and skip the code for this activity, look for the <img src=\"https://ai.google.dev/site-assets/images/marketing/home/icon-ais.png\" style=\"height: 24px\" height=24/> AI Studio link on each prompt."
      ],
      "metadata": {
        "id": "ExkOXcPxtTb5"
      }
    },
    {
      "cell_type": "markdown",
      "source": [
        "Next, you will need to add your API key to your Kaggle Notebook as a Kaggle User Secret.\n",
        "\n",
        "![](https://storage.googleapis.com/kaggle-media/Images/5dgai_1.png)\n",
        "![](https://storage.googleapis.com/kaggle-media/Images/5dgai_2.png)\n",
        "![](https://storage.googleapis.com/kaggle-media/Images/5dgai_3.png)\n",
        "![](https://storage.googleapis.com/kaggle-media/Images/5dgai_4.png)"
      ],
      "metadata": {
        "id": "lZ126X2eo9dT"
      }
    },
    {
      "cell_type": "markdown",
      "source": [
        "### Install the SDK"
      ],
      "metadata": {
        "id": "UAjUV3BsvFXQ"
      }
    },
    {
      "cell_type": "code",
      "source": [
        "!pip uninstall -qqy jupyterlab  # Remove unused packages from Kaggle's base image that conflict\n",
        "!pip install -U -q \"google-genai==1.7.0\""
      ],
      "metadata": {
        "id": "NzwzJFU9LqkJ",
        "execution": {
          "iopub.status.busy": "2025-04-01T21:47:58.49017Z",
          "iopub.execute_input": "2025-04-01T21:47:58.490954Z",
          "iopub.status.idle": "2025-04-01T21:48:16.72791Z",
          "shell.execute_reply.started": "2025-04-01T21:47:58.490902Z",
          "shell.execute_reply": "2025-04-01T21:48:16.726633Z"
        },
        "trusted": true
      },
      "outputs": [],
      "execution_count": null
    },
    {
      "cell_type": "markdown",
      "source": [
        "Import the SDK and some helpers for rendering the output."
      ],
      "metadata": {
        "id": "9Z9e7FOeo9dV"
      }
    },
    {
      "cell_type": "code",
      "source": [
        "from google import genai\n",
        "from google.genai import types\n",
        "\n",
        "from IPython.display import HTML, Markdown, display"
      ],
      "metadata": {
        "id": "5DwxYIRavMST",
        "trusted": true,
        "execution": {
          "iopub.status.busy": "2025-04-01T21:48:23.454736Z",
          "iopub.execute_input": "2025-04-01T21:48:23.45557Z",
          "iopub.status.idle": "2025-04-01T21:48:24.788847Z",
          "shell.execute_reply.started": "2025-04-01T21:48:23.455529Z",
          "shell.execute_reply": "2025-04-01T21:48:24.787797Z"
        }
      },
      "outputs": [],
      "execution_count": null
    },
    {
      "cell_type": "markdown",
      "source": [
        "Set up a retry helper. This allows you to \"Run all\" without worrying about per-minute quota."
      ],
      "metadata": {
        "id": "KWoIFTJqo9dW"
      }
    },
    {
      "cell_type": "code",
      "source": [
        "from google.api_core import retry\n",
        "\n",
        "\n",
        "is_retriable = lambda e: (isinstance(e, genai.errors.APIError) and e.code in {429, 503})\n",
        "\n",
        "genai.models.Models.generate_content = retry.Retry(\n",
        "    predicate=is_retriable)(genai.models.Models.generate_content)"
      ],
      "metadata": {
        "trusted": true,
        "execution": {
          "iopub.status.busy": "2025-04-01T21:48:50.699937Z",
          "iopub.execute_input": "2025-04-01T21:48:50.700964Z",
          "iopub.status.idle": "2025-04-01T21:48:50.706924Z",
          "shell.execute_reply.started": "2025-04-01T21:48:50.700923Z",
          "shell.execute_reply": "2025-04-01T21:48:50.705607Z"
        },
        "id": "uYNJVmxeo9dW"
      },
      "outputs": [],
      "execution_count": null
    },
    {
      "cell_type": "markdown",
      "source": [
        "### Set up your API key\n",
        "\n",
        "To run the following cell, your API key must be stored it in a [Kaggle secret](https://www.kaggle.com/discussions/product-feedback/114053) named `GOOGLE_API_KEY`.\n",
        "\n",
        "If you don't already have an API key, you can grab one from [AI Studio](https://aistudio.google.com/app/apikey). You can find [detailed instructions in the docs](https://ai.google.dev/gemini-api/docs/api-key).\n",
        "\n",
        "To make the key available through Kaggle secrets, choose `Secrets` from the `Add-ons` menu and follow the instructions to add your key or enable it for this notebook."
      ],
      "metadata": {
        "id": "DNEt2BCOvOJ1"
      }
    },
    {
      "cell_type": "code",
      "source": [
        "from kaggle_secrets import UserSecretsClient\n",
        "\n",
        "GOOGLE_API_KEY = UserSecretsClient().get_secret(\"GOOGLE_API_KEY\")"
      ],
      "metadata": {
        "id": "SHl0bkPCvayd",
        "trusted": true,
        "execution": {
          "iopub.status.busy": "2025-04-01T21:49:42.7343Z",
          "iopub.execute_input": "2025-04-01T21:49:42.735043Z",
          "iopub.status.idle": "2025-04-01T21:49:42.940211Z",
          "shell.execute_reply.started": "2025-04-01T21:49:42.734988Z",
          "shell.execute_reply": "2025-04-01T21:49:42.93915Z"
        }
      },
      "outputs": [],
      "execution_count": null
    },
    {
      "cell_type": "markdown",
      "source": [
        "If you received an error response along the lines of `No user secrets exist for kernel id ...`, then you need to add your API key via `Add-ons`, `Secrets` **and** enable it.\n",
        "\n",
        "![Screenshot of the checkbox to enable GOOGLE_API_KEY secret](https://storage.googleapis.com/kaggle-media/Images/5gdai_sc_3.png)"
      ],
      "metadata": {
        "id": "4e720472fd86"
      }
    },
    {
      "cell_type": "markdown",
      "source": [
        "### Run your first prompt\n",
        "\n",
        "In this step, you will test that your API key is set up correctly by making a request.\n",
        "\n",
        "The Python SDK uses a [`Client` object](https://googleapis.github.io/python-genai/genai.html#genai.client.Client) to make requests to the API. The client lets you control which back-end to use (between the Gemini API and Vertex AI) and handles authentication (the API key).\n",
        "\n",
        "The `gemini-2.0-flash` model has been selected here.\n",
        "\n",
        "**Note**: If you see a `TransportError` on this step, you may need to **🔁 Factory reset** the notebook one time."
      ],
      "metadata": {
        "id": "H_YXCYIKvyZJ"
      }
    },
    {
      "cell_type": "code",
      "source": [
        "client = genai.Client(api_key=GOOGLE_API_KEY)\n",
        "\n",
        "response = client.models.generate_content(\n",
        "    model=\"gemini-2.0-flash\",\n",
        "    contents=\"Explain AI to me like I'm a kid.\")\n",
        "\n",
        "print(response.text)"
      ],
      "metadata": {
        "id": "BV1o0PmcvyJF",
        "trusted": true,
        "execution": {
          "iopub.status.busy": "2025-04-01T21:50:14.649429Z",
          "iopub.execute_input": "2025-04-01T21:50:14.649833Z",
          "iopub.status.idle": "2025-04-01T21:50:17.867898Z",
          "shell.execute_reply.started": "2025-04-01T21:50:14.649797Z",
          "shell.execute_reply": "2025-04-01T21:50:17.866845Z"
        },
        "outputId": "3b026303-0edf-435f-9353-34e5d39b76c7"
      },
      "outputs": [
        {
          "name": "stdout",
          "text": "Okay, imagine you have a really smart dog, but instead of just knowing tricks like \"sit\" and \"stay\", this dog could learn almost anything just by looking at lots and lots of examples. That's kind of like AI!\n\nAI stands for **Artificial Intelligence**. \"Artificial\" means not real, like a toy. And \"Intelligence\" means being smart, like you and me.\n\nSo, AI is like making a toy that's really, really smart. But instead of toys, we usually make computers smart.\n\nHere's how it works:\n\n*   **Showing Examples:** We show the AI tons of pictures, sounds, or words. For example, if we want it to recognize cats, we show it thousands of pictures of cats!\n*   **Learning Patterns:** The AI looks at all those examples and tries to find patterns.  It notices that cats usually have pointy ears, whiskers, and fur.\n*   **Making Predictions:** Once it's learned the patterns, we can show it a new picture and ask \"Is this a cat?\".  The AI will look at the picture and, based on what it learned, say \"Yes, it's a cat!\" or \"No, it's not a cat!\"\n\n**Think of it like learning to ride a bike:**\n\n*   You see other people ride bikes (examples).\n*   You figure out you need to balance and pedal (patterns).\n*   You try to ride, and sometimes you fall, but you learn from your mistakes (more examples).\n*   Eventually, you can ride your bike perfectly!\n\nAI is used for lots of things, like:\n\n*   **Helping you find videos to watch:**  The computer looks at what videos you've watched before (examples) and suggests videos you might like.\n*   **Talking to you:**  Like Siri or Alexa! They've learned to understand words and answer questions.\n*   **Driving cars:**  Some cars can drive themselves by learning what to do from watching people drive.\n*   **Playing games:** AI can play games like chess or Go, and it's often better than even the best human players!\n\nSo, AI is all about teaching computers to learn and be smart, just like you!  It's like giving them a super brain that can figure things out by looking at lots and lots of examples.\n\n",
          "output_type": "stream"
        }
      ],
      "execution_count": null
    },
    {
      "cell_type": "markdown",
      "source": [
        "The response often comes back in markdown format, which you can render directly in this notebook."
      ],
      "metadata": {
        "id": "f60ed9d8ae41"
      }
    },
    {
      "cell_type": "code",
      "source": [
        "Markdown(response.text)"
      ],
      "metadata": {
        "id": "c933e5e460a5",
        "trusted": true,
        "execution": {
          "iopub.status.busy": "2025-04-01T21:51:08.22567Z",
          "iopub.execute_input": "2025-04-01T21:51:08.226047Z",
          "iopub.status.idle": "2025-04-01T21:51:08.234294Z",
          "shell.execute_reply.started": "2025-04-01T21:51:08.226014Z",
          "shell.execute_reply": "2025-04-01T21:51:08.233157Z"
        },
        "outputId": "f2cc395a-0123-46f9-bc09-01d86dd52753"
      },
      "outputs": [
        {
          "execution_count": 7,
          "output_type": "execute_result",
          "data": {
            "text/plain": "<IPython.core.display.Markdown object>",
            "text/markdown": "Okay, imagine you have a really smart dog, but instead of just knowing tricks like \"sit\" and \"stay\", this dog could learn almost anything just by looking at lots and lots of examples. That's kind of like AI!\n\nAI stands for **Artificial Intelligence**. \"Artificial\" means not real, like a toy. And \"Intelligence\" means being smart, like you and me.\n\nSo, AI is like making a toy that's really, really smart. But instead of toys, we usually make computers smart.\n\nHere's how it works:\n\n*   **Showing Examples:** We show the AI tons of pictures, sounds, or words. For example, if we want it to recognize cats, we show it thousands of pictures of cats!\n*   **Learning Patterns:** The AI looks at all those examples and tries to find patterns.  It notices that cats usually have pointy ears, whiskers, and fur.\n*   **Making Predictions:** Once it's learned the patterns, we can show it a new picture and ask \"Is this a cat?\".  The AI will look at the picture and, based on what it learned, say \"Yes, it's a cat!\" or \"No, it's not a cat!\"\n\n**Think of it like learning to ride a bike:**\n\n*   You see other people ride bikes (examples).\n*   You figure out you need to balance and pedal (patterns).\n*   You try to ride, and sometimes you fall, but you learn from your mistakes (more examples).\n*   Eventually, you can ride your bike perfectly!\n\nAI is used for lots of things, like:\n\n*   **Helping you find videos to watch:**  The computer looks at what videos you've watched before (examples) and suggests videos you might like.\n*   **Talking to you:**  Like Siri or Alexa! They've learned to understand words and answer questions.\n*   **Driving cars:**  Some cars can drive themselves by learning what to do from watching people drive.\n*   **Playing games:** AI can play games like chess or Go, and it's often better than even the best human players!\n\nSo, AI is all about teaching computers to learn and be smart, just like you!  It's like giving them a super brain that can figure things out by looking at lots and lots of examples.\n"
          },
          "metadata": {}
        }
      ],
      "execution_count": null
    },
    {
      "cell_type": "markdown",
      "source": [
        "### Start a chat\n",
        "\n",
        "The previous example uses a single-turn, text-in/text-out structure, but you can also set up a multi-turn chat structure too."
      ],
      "metadata": {
        "id": "byx0pT9ZMW2Q"
      }
    },
    {
      "cell_type": "code",
      "source": [
        "chat = client.chats.create(model='gemini-2.0-flash', history=[])\n",
        "response = chat.send_message('Hello! My name is Zlork.')\n",
        "print(response.text)"
      ],
      "metadata": {
        "id": "lV_S5ZL5MidD",
        "trusted": true,
        "execution": {
          "iopub.status.busy": "2025-04-01T21:51:29.269527Z",
          "iopub.execute_input": "2025-04-01T21:51:29.270513Z",
          "iopub.status.idle": "2025-04-01T21:51:29.797164Z",
          "shell.execute_reply.started": "2025-04-01T21:51:29.270471Z",
          "shell.execute_reply": "2025-04-01T21:51:29.796001Z"
        },
        "outputId": "08cfc1c1-5aed-4a34-ff4a-b995aeb79de5"
      },
      "outputs": [
        {
          "name": "stdout",
          "text": "Hello Zlork! It's nice to meet you. How can I help you today?\n\n",
          "output_type": "stream"
        }
      ],
      "execution_count": null
    },
    {
      "cell_type": "code",
      "source": [
        "response = chat.send_message('Can you tell me something interesting about dinosaurs?')\n",
        "print(response.text)"
      ],
      "metadata": {
        "id": "7b0372c3c64a",
        "trusted": true,
        "execution": {
          "iopub.status.busy": "2025-04-01T21:51:39.410706Z",
          "iopub.execute_input": "2025-04-01T21:51:39.411133Z",
          "iopub.status.idle": "2025-04-01T21:51:40.661063Z",
          "shell.execute_reply.started": "2025-04-01T21:51:39.411096Z",
          "shell.execute_reply": "2025-04-01T21:51:40.659906Z"
        },
        "outputId": "0040e19f-c295-4e27-c334-f8001e8d4413"
      },
      "outputs": [
        {
          "name": "stdout",
          "text": "Alright Zlork, here's an interesting fact about dinosaurs:\n\nWhile we often picture dinosaurs as being scaly and green or brown, there's strong evidence that many dinosaurs, particularly theropods (the group that includes Tyrannosaurus Rex and Velociraptor), had **feathers!**\n\nSome of these feathers were used for insulation, like down feathers in birds today, while others may have been used for display, like brightly colored plumes. Some smaller theropods may have even been able to fly! The discovery of feathered dinosaurs has revolutionized our understanding of dinosaur evolution and their connection to modern birds.\n\n",
          "output_type": "stream"
        }
      ],
      "execution_count": null
    },
    {
      "cell_type": "markdown",
      "source": [
        "While you have the `chat` object alive, the conversation state\n",
        "persists. Confirm that by asking if it knows the user's name."
      ],
      "metadata": {
        "id": "w1gHNW9yo9dZ"
      }
    },
    {
      "cell_type": "code",
      "source": [
        "response = chat.send_message('Do you remember what my name is?')\n",
        "print(response.text)"
      ],
      "metadata": {
        "id": "d3f9591392a7",
        "trusted": true,
        "execution": {
          "iopub.status.busy": "2025-04-01T21:52:03.695228Z",
          "iopub.execute_input": "2025-04-01T21:52:03.695626Z",
          "iopub.status.idle": "2025-04-01T21:52:04.233164Z",
          "shell.execute_reply.started": "2025-04-01T21:52:03.695593Z",
          "shell.execute_reply": "2025-04-01T21:52:04.231939Z"
        },
        "outputId": "cd7ca990-5638-4b51-c7ff-4d6f6893099d"
      },
      "outputs": [
        {
          "name": "stdout",
          "text": "Yes, Zlork! I remember your name is Zlork.\n\n",
          "output_type": "stream"
        }
      ],
      "execution_count": null
    },
    {
      "cell_type": "markdown",
      "source": [
        "### Choose a model\n",
        "\n",
        "The Gemini API provides access to a number of models from the Gemini model family. Read about the available models and their capabilities on the [model overview page](https://ai.google.dev/gemini-api/docs/models/gemini).\n",
        "\n",
        "In this step you'll use the API to list all of the available models."
      ],
      "metadata": {
        "id": "2KAjpr1200sW"
      }
    },
    {
      "cell_type": "code",
      "source": [
        "for model in client.models.list():\n",
        "  print(model.name)"
      ],
      "metadata": {
        "id": "uUUZa2uq2jDm",
        "trusted": true,
        "execution": {
          "iopub.status.busy": "2025-04-01T21:52:15.769313Z",
          "iopub.execute_input": "2025-04-01T21:52:15.770182Z",
          "iopub.status.idle": "2025-04-01T21:52:15.842236Z",
          "shell.execute_reply.started": "2025-04-01T21:52:15.770135Z",
          "shell.execute_reply": "2025-04-01T21:52:15.841207Z"
        },
        "outputId": "c2646f8b-9fba-46d1-bda7-5714f8b4fbe1"
      },
      "outputs": [
        {
          "name": "stdout",
          "text": "models/chat-bison-001\nmodels/text-bison-001\nmodels/embedding-gecko-001\nmodels/gemini-1.0-pro-vision-latest\nmodels/gemini-pro-vision\nmodels/gemini-1.5-pro-latest\nmodels/gemini-1.5-pro-001\nmodels/gemini-1.5-pro-002\nmodels/gemini-1.5-pro\nmodels/gemini-1.5-flash-latest\nmodels/gemini-1.5-flash-001\nmodels/gemini-1.5-flash-001-tuning\nmodels/gemini-1.5-flash\nmodels/gemini-1.5-flash-002\nmodels/gemini-1.5-flash-8b\nmodels/gemini-1.5-flash-8b-001\nmodels/gemini-1.5-flash-8b-latest\nmodels/gemini-1.5-flash-8b-exp-0827\nmodels/gemini-1.5-flash-8b-exp-0924\nmodels/gemini-2.5-pro-exp-03-25\nmodels/gemini-2.0-flash-exp\nmodels/gemini-2.0-flash\nmodels/gemini-2.0-flash-001\nmodels/gemini-2.0-flash-exp-image-generation\nmodels/gemini-2.0-flash-lite-001\nmodels/gemini-2.0-flash-lite\nmodels/gemini-2.0-flash-lite-preview-02-05\nmodels/gemini-2.0-flash-lite-preview\nmodels/gemini-2.0-pro-exp\nmodels/gemini-2.0-pro-exp-02-05\nmodels/gemini-exp-1206\nmodels/gemini-2.0-flash-thinking-exp-01-21\nmodels/gemini-2.0-flash-thinking-exp\nmodels/gemini-2.0-flash-thinking-exp-1219\nmodels/learnlm-1.5-pro-experimental\nmodels/gemma-3-4b-it\nmodels/gemma-3-12b-it\nmodels/gemma-3-27b-it\nmodels/embedding-001\nmodels/text-embedding-004\nmodels/gemini-embedding-exp-03-07\nmodels/gemini-embedding-exp\nmodels/aqa\nmodels/imagen-3.0-generate-002\n",
          "output_type": "stream"
        }
      ],
      "execution_count": null
    },
    {
      "cell_type": "markdown",
      "source": [
        "The [`models.list`](https://ai.google.dev/api/models#method:-models.list) response also returns additional information about the model's capabilities, like the token limits and supported parameters."
      ],
      "metadata": {
        "id": "rN49kSI54R1v"
      }
    },
    {
      "cell_type": "code",
      "source": [
        "from pprint import pprint\n",
        "\n",
        "for model in client.models.list():\n",
        "  if model.name == 'models/gemini-2.0-flash':\n",
        "    pprint(model.to_json_dict())\n",
        "    break"
      ],
      "metadata": {
        "id": "k7JJ1K6j4Rl8",
        "trusted": true,
        "execution": {
          "iopub.status.busy": "2025-04-01T21:52:30.80958Z",
          "iopub.execute_input": "2025-04-01T21:52:30.810369Z",
          "iopub.status.idle": "2025-04-01T21:52:30.879095Z",
          "shell.execute_reply.started": "2025-04-01T21:52:30.81033Z",
          "shell.execute_reply": "2025-04-01T21:52:30.878071Z"
        },
        "outputId": "f4c0b4e0-e4b8-445f-affb-6b91e40d607f"
      },
      "outputs": [
        {
          "name": "stdout",
          "text": "{'description': 'Gemini 2.0 Flash',\n 'display_name': 'Gemini 2.0 Flash',\n 'input_token_limit': 1048576,\n 'name': 'models/gemini-2.0-flash',\n 'output_token_limit': 8192,\n 'supported_actions': ['generateContent', 'countTokens', 'createCachedContent'],\n 'tuned_model_info': {},\n 'version': '2.0'}\n",
          "output_type": "stream"
        }
      ],
      "execution_count": null
    },
    {
      "cell_type": "markdown",
      "source": [
        "## Explore generation parameters\n",
        "\n"
      ],
      "metadata": {
        "id": "5rU_UBlZdooM"
      }
    },
    {
      "cell_type": "markdown",
      "source": [
        "### Output length\n",
        "\n",
        "When generating text with an LLM, the output length affects cost and performance. Generating more tokens increases computation, leading to higher energy consumption, latency, and cost.\n",
        "\n",
        "To stop the model from generating tokens past a limit, you can specify the `max_output_tokens` parameter when using the Gemini API. Specifying this parameter does not influence the generation of the output tokens, so the output will not become more stylistically or textually succinct, but it will stop generating tokens once the specified length is reached. Prompt engineering may be required to generate a more complete output for your given limit."
      ],
      "metadata": {
        "id": "G7NfEizeipbW"
      }
    },
    {
      "cell_type": "code",
      "source": [
        "from google.genai import types\n",
        "\n",
        "short_config = types.GenerateContentConfig(max_output_tokens=200)\n",
        "\n",
        "response = client.models.generate_content(\n",
        "    model='gemini-2.0-flash',\n",
        "    config=short_config,\n",
        "    contents='Write a 1000 word essay on the importance of olives in modern society.')\n",
        "\n",
        "print(response.text)"
      ],
      "metadata": {
        "id": "qVf23JsIi9ma",
        "trusted": true,
        "execution": {
          "iopub.status.busy": "2025-04-01T21:52:44.864607Z",
          "iopub.execute_input": "2025-04-01T21:52:44.865013Z",
          "iopub.status.idle": "2025-04-01T21:52:46.312815Z",
          "shell.execute_reply.started": "2025-04-01T21:52:44.864977Z",
          "shell.execute_reply": "2025-04-01T21:52:46.311701Z"
        },
        "outputId": "3ac4f8bc-573c-4e03-ad9f-b628dc17e65a"
      },
      "outputs": [
        {
          "name": "stdout",
          "text": "## The Enduring Olive: A Cornerstone of Modern Society\n\nThe olive, that small, unassuming fruit, has woven itself into the very fabric of human civilization for millennia. Far from being a mere garnish or a simple culinary ingredient, the olive, and particularly the olive tree (Olea europaea), holds a significance that resonates far beyond the kitchen. Its impact on modern society extends to economics, health, culture, and even environmental sustainability, making it a truly indispensable element of our global landscape.\n\nHistorically, the olive tree's significance is undeniable. Originating in the Mediterranean basin, it provided sustenance, fuel, and medicine to ancient societies. Olive oil, \"liquid gold\" as it was often called, lubricated daily life, fueled lamps, anointed rulers, and served as a vital trading commodity. Its symbolic association with peace, prosperity, and wisdom, immortalized in Greek mythology and Roman iconography, cemented its cultural importance. This legacy continues to inform our understanding of the olive today, informing\n",
          "output_type": "stream"
        }
      ],
      "execution_count": null
    },
    {
      "cell_type": "code",
      "source": [
        "response = client.models.generate_content(\n",
        "    model='gemini-2.0-flash',\n",
        "    config=short_config,\n",
        "    contents='Write a short poem on the importance of olives in modern society.')\n",
        "\n",
        "print(response.text)"
      ],
      "metadata": {
        "id": "W-3kR2F5kdMR",
        "trusted": true,
        "execution": {
          "iopub.status.busy": "2025-04-01T21:52:58.674533Z",
          "iopub.execute_input": "2025-04-01T21:52:58.674942Z",
          "iopub.status.idle": "2025-04-01T21:52:59.365691Z",
          "shell.execute_reply.started": "2025-04-01T21:52:58.674907Z",
          "shell.execute_reply": "2025-04-01T21:52:59.364522Z"
        },
        "outputId": "7be7f548-34fa-4f29-c82d-253b955aea5a"
      },
      "outputs": [
        {
          "name": "stdout",
          "text": "From ancient groves to modern plate,\nAn olive's journey, intricate.\nIn oil that shines, a healthy gleam,\nOn pizzas topped, a savory dream.\n\nA tapenade, a salty spread,\nOn salads tossed, a vibrant thread.\nA symbol peace, a taste of sun,\nThe humble olive, work is done.\n\n",
          "output_type": "stream"
        }
      ],
      "execution_count": null
    },
    {
      "cell_type": "markdown",
      "source": [
        "Explore with your own prompts. Try a prompt with a restrictive output limit and then adjust the prompt to work within that limit."
      ],
      "metadata": {
        "id": "3ZhDSLB6lqqB"
      }
    },
    {
      "cell_type": "markdown",
      "source": [
        "### Temperature\n",
        "\n",
        "Temperature controls the degree of randomness in token selection. Higher temperatures result in a higher number of candidate tokens from which the next output token is selected, and can produce more diverse results, while lower temperatures have the opposite effect, such that a temperature of 0 results in greedy decoding, selecting the most probable token at each step.\n",
        "\n",
        "Temperature doesn't provide any guarantees of randomness, but it can be used to \"nudge\" the output somewhat."
      ],
      "metadata": {
        "id": "alx-WaAvir_9"
      }
    },
    {
      "cell_type": "code",
      "source": [
        "high_temp_config = types.GenerateContentConfig(temperature=2.0)\n",
        "\n",
        "\n",
        "for _ in range(5):\n",
        "  response = client.models.generate_content(\n",
        "      model='gemini-2.0-flash',\n",
        "      config=high_temp_config,\n",
        "      contents='Pick a random colour... (respond in a single word)')\n",
        "\n",
        "  if response.text:\n",
        "    print(response.text, '-' * 25)"
      ],
      "metadata": {
        "id": "SHraGMzqnZqt",
        "trusted": true,
        "execution": {
          "iopub.status.busy": "2025-04-01T21:53:09.801182Z",
          "iopub.execute_input": "2025-04-01T21:53:09.801992Z",
          "iopub.status.idle": "2025-04-01T21:53:11.020174Z",
          "shell.execute_reply.started": "2025-04-01T21:53:09.801955Z",
          "shell.execute_reply": "2025-04-01T21:53:11.019052Z"
        },
        "outputId": "cbff8ad4-07f9-4490-d6a6-92039d2e19de"
      },
      "outputs": [
        {
          "name": "stdout",
          "text": "Azure\n -------------------------\nTurquoise\n -------------------------\nAzure\n -------------------------\nAzure\n -------------------------\nMagenta\n -------------------------\n",
          "output_type": "stream"
        }
      ],
      "execution_count": null
    },
    {
      "cell_type": "markdown",
      "source": [
        "Now try the same prompt with temperature set to zero. Note that the output is not completely deterministic, as other parameters affect token selection, but the results will tend to be more stable."
      ],
      "metadata": {
        "id": "z3J4pCTuof7e"
      }
    },
    {
      "cell_type": "code",
      "source": [
        "low_temp_config = types.GenerateContentConfig(temperature=0.0)\n",
        "\n",
        "for _ in range(5):\n",
        "  response = client.models.generate_content(\n",
        "      model='gemini-2.0-flash',\n",
        "      config=low_temp_config,\n",
        "      contents='Pick a random colour... (respond in a single word)')\n",
        "\n",
        "  if response.text:\n",
        "    print(response.text, '-' * 25)"
      ],
      "metadata": {
        "id": "clymkWv-PfUZ",
        "trusted": true,
        "execution": {
          "iopub.status.busy": "2025-04-01T21:53:20.609476Z",
          "iopub.execute_input": "2025-04-01T21:53:20.610397Z",
          "iopub.status.idle": "2025-04-01T21:53:21.953056Z",
          "shell.execute_reply.started": "2025-04-01T21:53:20.610358Z",
          "shell.execute_reply": "2025-04-01T21:53:21.951849Z"
        },
        "outputId": "62eb7d62-5199-4526-dac5-ef43654de227"
      },
      "outputs": [
        {
          "name": "stdout",
          "text": "Azure\n -------------------------\nAzure\n -------------------------\nAzure\n -------------------------\nAzure\n -------------------------\nAzure\n -------------------------\n",
          "output_type": "stream"
        }
      ],
      "execution_count": null
    },
    {
      "cell_type": "markdown",
      "source": [
        "### Top-P\n",
        "\n",
        "Like temperature, the top-P parameter is also used to control the diversity of the model's output.\n",
        "\n",
        "Top-P defines the probability threshold that, once cumulatively exceeded, tokens stop being selected as candidates. A top-P of 0 is typically equivalent to greedy decoding, and a top-P of 1 typically selects every token in the model's vocabulary.\n",
        "\n",
        "You may also see top-K referenced in LLM literature. Top-K is not configurable in the Gemini 2.0 series of models, but can be changed in older models. Top-K is a positive integer that defines the number of most probable tokens from which to select the output token. A top-K of 1 selects a single token, performing greedy decoding.\n",
        "\n",
        "\n",
        "Run this example a number of times, change the settings and observe the change in output."
      ],
      "metadata": {
        "id": "St5nt3vzitsZ"
      }
    },
    {
      "cell_type": "code",
      "source": [
        "model_config = types.GenerateContentConfig(\n",
        "    # These are the default values for gemini-2.0-flash.\n",
        "    temperature=1.0,\n",
        "    top_p=0.95,\n",
        ")\n",
        "\n",
        "story_prompt = \"You are a creative writer. Write a short story about a cat who goes on an adventure.\"\n",
        "response = client.models.generate_content(\n",
        "    model='gemini-2.0-flash',\n",
        "    config=model_config,\n",
        "    contents=story_prompt)\n",
        "\n",
        "print(response.text)"
      ],
      "metadata": {
        "id": "lPlzpEavUV8F",
        "trusted": true,
        "execution": {
          "iopub.status.busy": "2025-04-01T21:53:36.65455Z",
          "iopub.execute_input": "2025-04-01T21:53:36.6552Z",
          "iopub.status.idle": "2025-04-01T21:53:41.862931Z",
          "shell.execute_reply.started": "2025-04-01T21:53:36.655154Z",
          "shell.execute_reply": "2025-04-01T21:53:41.861748Z"
        },
        "outputId": "9dab47a3-33fd-4682-cb40-0a42834c201f"
      },
      "outputs": [
        {
          "name": "stdout",
          "text": "Clementine, a ginger tabby with a perpetually skeptical look, was not an adventurous cat. Her life revolved around sunbeams, the rustle of the treat bag, and the occasional strategic swat at dust bunnies. Adventure, in her opinion, was vastly overrated.\n\nUntil the squirrel incident.\n\nIt started, as most things do, innocently enough. Clementine was napping on the windowsill, dreaming of tuna-flavored naptime, when a brazen squirrel, fat with acorns and audacity, flicked its tail at her from the oak tree. Insulted to her very core, Clementine puffed up her fur and launched herself onto the window screen, hissing like a leaky radiator.\n\nThe screen, however, was past its prime. With a groan that echoed through the quiet suburban afternoon, it gave way, sending Clementine tumbling headfirst into the unknown.\n\nThe world exploded in a flurry of green and brown. No longer was she nestled in the safe, predictable confines of her house. This was the wild. This was…unacceptable.\n\nDriven by a potent mix of fear and humiliation, Clementine scrambled under a rose bush, heart hammering. A ladybug landed on her nose. She flicked it off with a disgusted paw.\n\nSurvival instincts, dormant for years, began to stir. She remembered tales her grandmother, a feral queen, used to whisper about hunting mice and navigating the treacherous alleys.\n\nClementine crept forward, nose twitching. The scent of earthworms and decaying leaves filled her senses. It was a symphony of unfamiliar smells, both intriguing and terrifying.\n\nHer first challenge came in the form of a grumpy earthworm, wriggling across her path. Instinct took over. She stalked, she pounced, she…played. The worm, bless its slimy little heart, was remarkably entertaining.\n\nNext, she encountered a shimmering puddle, reflecting the afternoon sun. Hesitantly, she lapped at it. It tasted like dirt and freedom.\n\nAs the sun began to dip, casting long shadows across the lawn, a new scent reached her – warm, inviting, familiar. It was her human's laundry, freshly hung on the line.\n\nHope surged through her. She followed the scent, her paws padding silently on the grass. She arrived at a veritable forest of brightly colored fabrics, swaying gently in the breeze. And there, hanging like a beacon of salvation, was her human's favorite sweater.\n\nWith a mighty leap, Clementine launched herself onto the sweater, clinging to the soft wool for dear life. The familiar scent of lavender and love washed over her, chasing away the lingering fear of the outside world.\n\nHer human, startled by the sudden weight, turned around. Her eyes widened, then crinkled with laughter. \"Clementine! What are you doing out here, silly girl?\"\n\nScooped up into a warm embrace, Clementine purred like a rusty engine. She buried her face in her human's neck, the memory of the squirrel, the earthworm, the puddle, fading into a blurry, slightly embarrassing dream.\n\nBack inside, curled up on her favorite sunbeam, Clementine licked her paw, a tiny glint in her eye. The outside world was definitely not for her. But… perhaps… just perhaps… she had learned something new. Maybe adventure wasn't so overrated after all. Especially if it led back to warm sweaters and tuna-flavored treats. After all, a cat couldn't be completely certain she wouldn't fall out of another window again. She would just have to be prepared. Just in case. And maybe, just maybe, she would even give that squirrel a piece of her mind next time. He deserved it.\n\n",
          "output_type": "stream"
        }
      ],
      "execution_count": null
    },
    {
      "cell_type": "markdown",
      "source": [
        "## Prompting\n",
        "\n",
        "This section contains some prompts from the chapter for you to try out directly in the API. Try changing the text here to see how each prompt performs with different instructions, more examples, or any other changes you can think of."
      ],
      "metadata": {
        "id": "rMrYs1koY6DX"
      }
    },
    {
      "cell_type": "markdown",
      "source": [
        "### Zero-shot\n",
        "\n",
        "Zero-shot prompts are prompts that describe the request for the model directly.\n",
        "\n",
        "<table align=left>\n",
        "  <td>\n",
        "    <a target=\"_blank\" href=\"https://aistudio.google.com/prompts/1gzKKgDHwkAvexG5Up0LMtl1-6jKMKe4g\"><img src=\"https://ai.google.dev/site-assets/images/marketing/home/icon-ais.png\" style=\"height: 24px\" height=24/> Open in AI Studio</a>\n",
        "  </td>\n",
        "</table>"
      ],
      "metadata": {
        "id": "hhj_tQidZJP7"
      }
    },
    {
      "cell_type": "code",
      "source": [
        "model_config = types.GenerateContentConfig(\n",
        "    temperature=0.1,\n",
        "    top_p=1,\n",
        "    max_output_tokens=5,\n",
        ")\n",
        "\n",
        "zero_shot_prompt = \"\"\"Classify movie reviews as POSITIVE, NEUTRAL or NEGATIVE.\n",
        "Review: \"Her\" is a disturbing study revealing the direction\n",
        "humanity is headed if AI is allowed to keep evolving,\n",
        "unchecked. I wish there were more movies like this masterpiece.\n",
        "Sentiment: \"\"\"\n",
        "\n",
        "response = client.models.generate_content(\n",
        "    model='gemini-2.0-flash',\n",
        "    config=model_config,\n",
        "    contents=zero_shot_prompt)\n",
        "\n",
        "print(response.text)"
      ],
      "metadata": {
        "id": "1_t-cwnDZzbH",
        "trusted": true,
        "execution": {
          "iopub.status.busy": "2025-04-01T21:55:42.869709Z",
          "iopub.execute_input": "2025-04-01T21:55:42.870123Z",
          "iopub.status.idle": "2025-04-01T21:55:43.301049Z",
          "shell.execute_reply.started": "2025-04-01T21:55:42.870089Z",
          "shell.execute_reply": "2025-04-01T21:55:43.300045Z"
        },
        "outputId": "8f66bb3a-55a7-4839-856b-4a5d278f1209"
      },
      "outputs": [
        {
          "name": "stdout",
          "text": "POSITIVE\n\n",
          "output_type": "stream"
        }
      ],
      "execution_count": null
    },
    {
      "cell_type": "markdown",
      "source": [
        "#### Enum mode\n",
        "\n",
        "The models are trained to generate text, and while the Gemini 2.0 models are great at following instructions, other models can sometimes produce more text than you may wish for. In the preceding example, the model will output the label, but sometimes it can include a preceding \"Sentiment\" label, and without an output token limit, it may also add explanatory text afterwards. See [this prompt in AI Studio](https://aistudio.google.com/prompts/1gzKKgDHwkAvexG5Up0LMtl1-6jKMKe4g) for an example.\n",
        "\n",
        "The Gemini API has an [Enum mode](https://github.com/google-gemini/cookbook/blob/main/quickstarts/Enum.ipynb) feature that allows you to constrain the output to a fixed set of values."
      ],
      "metadata": {
        "id": "3b5568bdeb11"
      }
    },
    {
      "cell_type": "code",
      "source": [
        "import enum\n",
        "\n",
        "class Sentiment(enum.Enum):\n",
        "    POSITIVE = \"positive\"\n",
        "    NEUTRAL = \"neutral\"\n",
        "    NEGATIVE = \"negative\"\n",
        "\n",
        "\n",
        "response = client.models.generate_content(\n",
        "    model='gemini-2.0-flash',\n",
        "    config=types.GenerateContentConfig(\n",
        "        response_mime_type=\"text/x.enum\",\n",
        "        response_schema=Sentiment\n",
        "    ),\n",
        "    contents=zero_shot_prompt)\n",
        "\n",
        "print(response.text)"
      ],
      "metadata": {
        "id": "ad118a56c598",
        "trusted": true,
        "execution": {
          "iopub.status.busy": "2025-04-01T21:56:02.819432Z",
          "iopub.execute_input": "2025-04-01T21:56:02.82028Z",
          "iopub.status.idle": "2025-04-01T21:56:03.40099Z",
          "shell.execute_reply.started": "2025-04-01T21:56:02.820226Z",
          "shell.execute_reply": "2025-04-01T21:56:03.399949Z"
        },
        "outputId": "022982a7-043d-4d46-8c80-0e8d0adcc066"
      },
      "outputs": [
        {
          "name": "stdout",
          "text": "positive\n",
          "output_type": "stream"
        }
      ],
      "execution_count": null
    },
    {
      "cell_type": "markdown",
      "source": [
        "When using constrained output like an enum, the Python SDK will attempt to convert the model's text response into a Python object automatically. It's stored in the `response.parsed` field."
      ],
      "metadata": {
        "id": "QS_AsgmGo9dn"
      }
    },
    {
      "cell_type": "code",
      "source": [
        "enum_response = response.parsed\n",
        "print(enum_response)\n",
        "print(type(enum_response))"
      ],
      "metadata": {
        "trusted": true,
        "execution": {
          "iopub.status.busy": "2025-04-01T21:56:10.050323Z",
          "iopub.execute_input": "2025-04-01T21:56:10.051171Z",
          "iopub.status.idle": "2025-04-01T21:56:10.056641Z",
          "shell.execute_reply.started": "2025-04-01T21:56:10.05113Z",
          "shell.execute_reply": "2025-04-01T21:56:10.055526Z"
        },
        "id": "vUHROrveo9dn",
        "outputId": "d8bc5f41-4616-4125-d5bf-8fd3ed6d87c9"
      },
      "outputs": [
        {
          "name": "stdout",
          "text": "Sentiment.POSITIVE\n<enum 'Sentiment'>\n",
          "output_type": "stream"
        }
      ],
      "execution_count": null
    },
    {
      "cell_type": "markdown",
      "source": [
        "### One-shot and few-shot\n",
        "\n",
        "Providing an example of the expected response is known as a \"one-shot\" prompt. When you provide multiple examples, it is a \"few-shot\" prompt.\n",
        "\n",
        "<table align=left>\n",
        "  <td>\n",
        "    <a target=\"_blank\" href=\"https://aistudio.google.com/prompts/1jjWkjUSoMXmLvMJ7IzADr_GxHPJVV2bg\"><img src=\"https://ai.google.dev/site-assets/images/marketing/home/icon-ais.png\" style=\"height: 24px\" height=24/> Open in AI Studio</a>\n",
        "  </td>\n",
        "</table>\n"
      ],
      "metadata": {
        "id": "0udiSwNbv45W"
      }
    },
    {
      "cell_type": "code",
      "source": [
        "few_shot_prompt = \"\"\"Parse a customer's pizza order into valid JSON:\n",
        "\n",
        "EXAMPLE:\n",
        "I want a small pizza with cheese, tomato sauce, and pepperoni.\n",
        "JSON Response:\n",
        "```\n",
        "{\n",
        "\"size\": \"small\",\n",
        "\"type\": \"normal\",\n",
        "\"ingredients\": [\"cheese\", \"tomato sauce\", \"pepperoni\"]\n",
        "}\n",
        "```\n",
        "\n",
        "EXAMPLE:\n",
        "Can I get a large pizza with tomato sauce, basil and mozzarella\n",
        "JSON Response:\n",
        "```\n",
        "{\n",
        "\"size\": \"large\",\n",
        "\"type\": \"normal\",\n",
        "\"ingredients\": [\"tomato sauce\", \"basil\", \"mozzarella\"]\n",
        "}\n",
        "```\n",
        "\n",
        "ORDER:\n",
        "\"\"\"\n",
        "\n",
        "customer_order = \"Give me a large with cheese & pineapple\"\n",
        "\n",
        "response = client.models.generate_content(\n",
        "    model='gemini-2.0-flash',\n",
        "    config=types.GenerateContentConfig(\n",
        "        temperature=0.1,\n",
        "        top_p=1,\n",
        "        max_output_tokens=250,\n",
        "    ),\n",
        "    contents=[few_shot_prompt, customer_order])\n",
        "\n",
        "print(response.text)"
      ],
      "metadata": {
        "id": "hd4mVUukwOKZ",
        "trusted": true,
        "execution": {
          "iopub.status.busy": "2025-04-01T21:56:34.649671Z",
          "iopub.execute_input": "2025-04-01T21:56:34.650495Z",
          "iopub.status.idle": "2025-04-01T21:56:35.250291Z",
          "shell.execute_reply.started": "2025-04-01T21:56:34.65045Z",
          "shell.execute_reply": "2025-04-01T21:56:35.249175Z"
        },
        "outputId": "dcfee7a3-8570-438d-ca85-19b29af7cada"
      },
      "outputs": [
        {
          "name": "stdout",
          "text": "```json\n{\n\"size\": \"large\",\n\"type\": \"normal\",\n\"ingredients\": [\"cheese\", \"pineapple\"]\n}\n```\n\n",
          "output_type": "stream"
        }
      ],
      "execution_count": null
    },
    {
      "cell_type": "markdown",
      "source": [
        "#### JSON mode\n",
        "\n",
        "To provide control over the schema, and to ensure that you only receive JSON (with no other text or markdown), you can use the Gemini API's [JSON mode](https://github.com/google-gemini/cookbook/blob/main/quickstarts/JSON_mode.ipynb). This forces the model to constrain decoding, such that token selection is guided by the supplied schema."
      ],
      "metadata": {
        "id": "021293096f08"
      }
    },
    {
      "cell_type": "code",
      "source": [
        "import typing_extensions as typing\n",
        "\n",
        "class PizzaOrder(typing.TypedDict):\n",
        "    size: str\n",
        "    ingredients: list[str]\n",
        "    type: str\n",
        "\n",
        "\n",
        "response = client.models.generate_content(\n",
        "    model='gemini-2.0-flash',\n",
        "    config=types.GenerateContentConfig(\n",
        "        temperature=0.1,\n",
        "        response_mime_type=\"application/json\",\n",
        "        response_schema=PizzaOrder,\n",
        "    ),\n",
        "    contents=\"Can I have a large dessert pizza with apple and chocolate\")\n",
        "\n",
        "print(response.text)"
      ],
      "metadata": {
        "id": "50fbf0260912",
        "trusted": true,
        "execution": {
          "iopub.status.busy": "2025-04-01T21:56:54.414186Z",
          "iopub.execute_input": "2025-04-01T21:56:54.414893Z",
          "iopub.status.idle": "2025-04-01T21:56:55.108869Z",
          "shell.execute_reply.started": "2025-04-01T21:56:54.414856Z",
          "shell.execute_reply": "2025-04-01T21:56:55.107851Z"
        },
        "outputId": "87e268b0-5400-4d01-fd1e-543759e27983"
      },
      "outputs": [
        {
          "name": "stdout",
          "text": "{\n  \"size\": \"large\",\n  \"ingredients\": [\"apple\", \"chocolate\"],\n  \"type\": \"dessert\"\n}\n",
          "output_type": "stream"
        }
      ],
      "execution_count": null
    },
    {
      "cell_type": "markdown",
      "source": [
        "### Chain of Thought (CoT)\n",
        "\n",
        "Direct prompting on LLMs can return answers quickly and (in terms of output token usage) efficiently, but they can be prone to hallucination. The answer may \"look\" correct (in terms of language and syntax) but is incorrect in terms of factuality and reasoning.\n",
        "\n",
        "Chain-of-Thought prompting is a technique where you instruct the model to output intermediate reasoning steps, and it typically gets better results, especially when combined with few-shot examples. It is worth noting that this technique doesn't completely eliminate hallucinations, and that it tends to cost more to run, due to the increased token count.\n",
        "\n",
        "Models like the Gemini family are trained to be \"chatty\" or \"thoughtful\" and will provide reasoning steps without prompting, so for this simple example you can ask the model to be more direct in the prompt to force a non-reasoning response. Try re-running this step if the model gets lucky and gets the answer correct on the first try."
      ],
      "metadata": {
        "id": "4a93e338e57c"
      }
    },
    {
      "cell_type": "code",
      "source": [
        "prompt = \"\"\"When I was 4 years old, my partner was 3 times my age. Now, I\n",
        "am 20 years old. How old is my partner? Return the answer directly.\"\"\"\n",
        "\n",
        "response = client.models.generate_content(\n",
        "    model='gemini-2.0-flash',\n",
        "    contents=prompt)\n",
        "\n",
        "print(response.text)"
      ],
      "metadata": {
        "id": "5715555db1c1",
        "trusted": true,
        "execution": {
          "iopub.status.busy": "2025-04-01T21:57:05.969967Z",
          "iopub.execute_input": "2025-04-01T21:57:05.970912Z",
          "iopub.status.idle": "2025-04-01T21:57:06.461655Z",
          "shell.execute_reply.started": "2025-04-01T21:57:05.970871Z",
          "shell.execute_reply": "2025-04-01T21:57:06.460636Z"
        },
        "outputId": "caef1b92-6c2c-4d69-a017-5203147bf51f"
      },
      "outputs": [
        {
          "name": "stdout",
          "text": "52\n\n",
          "output_type": "stream"
        }
      ],
      "execution_count": null
    },
    {
      "cell_type": "markdown",
      "source": [
        "Now try the same approach, but indicate to the model that it should \"think step by step\"."
      ],
      "metadata": {
        "id": "e12b19677bfd"
      }
    },
    {
      "cell_type": "code",
      "source": [
        "prompt = \"\"\"When I was 4 years old, my partner was 3 times my age. Now,\n",
        "I am 20 years old. How old is my partner? Let's think step by step.\"\"\"\n",
        "\n",
        "response = client.models.generate_content(\n",
        "    model='gemini-2.0-flash',\n",
        "    contents=prompt)\n",
        "\n",
        "Markdown(response.text)"
      ],
      "metadata": {
        "id": "ffd7536a481f",
        "trusted": true,
        "execution": {
          "iopub.status.busy": "2025-04-01T21:58:00.410171Z",
          "iopub.execute_input": "2025-04-01T21:58:00.410564Z",
          "iopub.status.idle": "2025-04-01T21:58:01.224905Z",
          "shell.execute_reply.started": "2025-04-01T21:58:00.41053Z",
          "shell.execute_reply": "2025-04-01T21:58:01.223848Z"
        },
        "outputId": "3b63450a-7055-41a3-b2ba-29acc14ee90b"
      },
      "outputs": [
        {
          "execution_count": 24,
          "output_type": "execute_result",
          "data": {
            "text/plain": "<IPython.core.display.Markdown object>",
            "text/markdown": "Here's how to solve the problem:\n\n1.  **Find the age difference:** When you were 4, your partner was 3 * 4 = 12 years old.\n2.  **Calculate the age difference:** The age difference between you and your partner is 12 - 4 = 8 years.\n3.  **Determine the partner's current age:** Since your partner is 8 years older than you, they are currently 20 + 8 = 28 years old.\n\n**Therefore, your partner is now 28 years old.**"
          },
          "metadata": {}
        }
      ],
      "execution_count": null
    },
    {
      "cell_type": "markdown",
      "source": [
        "### ReAct: Reason and act\n",
        "\n",
        "In this example you will run a ReAct prompt directly in the Gemini API and perform the searching steps yourself. As this prompt follows a well-defined structure, there are frameworks available that wrap the prompt into easier-to-use APIs that make tool calls automatically, such as the LangChain example from the \"Prompting\" whitepaper.\n",
        "\n",
        "To try this out with the Wikipedia search engine, check out the [Searching Wikipedia with ReAct](https://github.com/google-gemini/cookbook/blob/main/examples/Search_Wikipedia_using_ReAct.ipynb) cookbook example.\n",
        "\n",
        "\n",
        "> Note: The prompt and in-context examples used here are from [https://github.com/ysymyth/ReAct](https://github.com/ysymyth/ReAct) which is published under an [MIT license](https://opensource.org/licenses/MIT), Copyright (c) 2023 Shunyu Yao.\n",
        "\n",
        "<table align=left>\n",
        "  <td>\n",
        "    <a target=\"_blank\" href=\"https://aistudio.google.com/prompts/18oo63Lwosd-bQ6Ay51uGogB3Wk3H8XMO\"><img src=\"https://ai.google.dev/site-assets/images/marketing/home/icon-ais.png\" style=\"height: 24px\" height=24/> Open in AI Studio</a>\n",
        "  </td>\n",
        "</table>\n"
      ],
      "metadata": {
        "id": "oiLgBQJj0V53"
      }
    },
    {
      "cell_type": "code",
      "source": [
        "model_instructions = \"\"\"\n",
        "Solve a question answering task with interleaving Thought, Action, Observation steps. Thought can reason about the current situation,\n",
        "Observation is understanding relevant information from an Action's output and Action can be one of three types:\n",
        " (1) <search>entity</search>, which searches the exact entity on Wikipedia and returns the first paragraph if it exists. If not, it\n",
        "     will return some similar entities to search and you can try to search the information from those topics.\n",
        " (2) <lookup>keyword</lookup>, which returns the next sentence containing keyword in the current context. This only does exact matches,\n",
        "     so keep your searches short.\n",
        " (3) <finish>answer</finish>, which returns the answer and finishes the task.\n",
        "\"\"\"\n",
        "\n",
        "example1 = \"\"\"Question\n",
        "Musician and satirist Allie Goertz wrote a song about the \"The Simpsons\" character Milhouse, who Matt Groening named after who?\n",
        "\n",
        "Thought 1\n",
        "The question simplifies to \"The Simpsons\" character Milhouse is named after who. I only need to search Milhouse and find who it is named after.\n",
        "\n",
        "Action 1\n",
        "<search>Milhouse</search>\n",
        "\n",
        "Observation 1\n",
        "Milhouse Mussolini Van Houten is a recurring character in the Fox animated television series The Simpsons voiced by Pamela Hayden and created by Matt Groening.\n",
        "\n",
        "Thought 2\n",
        "The paragraph does not tell who Milhouse is named after, maybe I can look up \"named after\".\n",
        "\n",
        "Action 2\n",
        "<lookup>named after</lookup>\n",
        "\n",
        "Observation 2\n",
        "Milhouse was named after U.S. president Richard Nixon, whose middle name was Milhous.\n",
        "\n",
        "Thought 3\n",
        "Milhouse was named after U.S. president Richard Nixon, so the answer is Richard Nixon.\n",
        "\n",
        "Action 3\n",
        "<finish>Richard Nixon</finish>\n",
        "\"\"\"\n",
        "\n",
        "example2 = \"\"\"Question\n",
        "What is the elevation range for the area that the eastern sector of the Colorado orogeny extends into?\n",
        "\n",
        "Thought 1\n",
        "I need to search Colorado orogeny, find the area that the eastern sector of the Colorado orogeny extends into, then find the elevation range of the area.\n",
        "\n",
        "Action 1\n",
        "<search>Colorado orogeny</search>\n",
        "\n",
        "Observation 1\n",
        "The Colorado orogeny was an episode of mountain building (an orogeny) in Colorado and surrounding areas.\n",
        "\n",
        "Thought 2\n",
        "It does not mention the eastern sector. So I need to look up eastern sector.\n",
        "\n",
        "Action 2\n",
        "<lookup>eastern sector</lookup>\n",
        "\n",
        "Observation 2\n",
        "The eastern sector extends into the High Plains and is called the Central Plains orogeny.\n",
        "\n",
        "Thought 3\n",
        "The eastern sector of Colorado orogeny extends into the High Plains. So I need to search High Plains and find its elevation range.\n",
        "\n",
        "Action 3\n",
        "<search>High Plains</search>\n",
        "\n",
        "Observation 3\n",
        "High Plains refers to one of two distinct land regions\n",
        "\n",
        "Thought 4\n",
        "I need to instead search High Plains (United States).\n",
        "\n",
        "Action 4\n",
        "<search>High Plains (United States)</search>\n",
        "\n",
        "Observation 4\n",
        "The High Plains are a subregion of the Great Plains. From east to west, the High Plains rise in elevation from around 1,800 to 7,000 ft (550 to 2,130m).\n",
        "\n",
        "Thought 5\n",
        "High Plains rise in elevation from around 1,800 to 7,000 ft, so the answer is 1,800 to 7,000 ft.\n",
        "\n",
        "Action 5\n",
        "<finish>1,800 to 7,000 ft</finish>\n",
        "\"\"\"\n",
        "\n",
        "# Come up with more examples yourself, or take a look through https://github.com/ysymyth/ReAct/"
      ],
      "metadata": {
        "id": "cBgyNJ5z0VSs",
        "trusted": true,
        "execution": {
          "iopub.status.busy": "2025-04-01T21:59:08.151096Z",
          "iopub.execute_input": "2025-04-01T21:59:08.151503Z",
          "iopub.status.idle": "2025-04-01T21:59:08.158068Z",
          "shell.execute_reply.started": "2025-04-01T21:59:08.151468Z",
          "shell.execute_reply": "2025-04-01T21:59:08.157057Z"
        }
      },
      "outputs": [],
      "execution_count": null
    },
    {
      "cell_type": "markdown",
      "source": [
        "To capture a single step at a time, while ignoring any hallucinated Observation steps, you will use `stop_sequences` to end the generation process. The steps are `Thought`, `Action`, `Observation`, in that order."
      ],
      "metadata": {
        "id": "C3wbfstjTgey"
      }
    },
    {
      "cell_type": "code",
      "source": [
        "question = \"\"\"Question\n",
        "Who was the youngest author listed on the transformers NLP paper?\n",
        "\"\"\"\n",
        "\n",
        "# You will perform the Action; so generate up to, but not including, the Observation.\n",
        "react_config = types.GenerateContentConfig(\n",
        "    stop_sequences=[\"\\nObservation\"],\n",
        "    system_instruction=model_instructions + example1 + example2,\n",
        ")\n",
        "\n",
        "# Create a chat that has the model instructions and examples pre-seeded.\n",
        "react_chat = client.chats.create(\n",
        "    model='gemini-2.0-flash',\n",
        "    config=react_config,\n",
        ")\n",
        "\n",
        "resp = react_chat.send_message(question)\n",
        "print(resp.text)"
      ],
      "metadata": {
        "id": "8mxrXRkRTdXm",
        "trusted": true,
        "execution": {
          "iopub.status.busy": "2025-04-01T21:59:42.64986Z",
          "iopub.execute_input": "2025-04-01T21:59:42.650545Z",
          "iopub.status.idle": "2025-04-01T21:59:43.289517Z",
          "shell.execute_reply.started": "2025-04-01T21:59:42.650503Z",
          "shell.execute_reply": "2025-04-01T21:59:43.288424Z"
        },
        "outputId": "00f13260-5c11-4a42-fcd4-2afd40aa0ae4"
      },
      "outputs": [
        {
          "name": "stdout",
          "text": "Thought 1\nI need to find the transformers NLP paper and identify the youngest author listed on it.\n\nAction 1\n<search>transformers NLP paper</search>\n\n",
          "output_type": "stream"
        }
      ],
      "execution_count": null
    },
    {
      "cell_type": "markdown",
      "source": [
        "Now you can perform this research yourself and supply it back to the model."
      ],
      "metadata": {
        "id": "aW2PIdLbVv3l"
      }
    },
    {
      "cell_type": "code",
      "source": [
        "observation = \"\"\"Observation 1\n",
        "[1706.03762] Attention Is All You Need\n",
        "Ashish Vaswani, Noam Shazeer, Niki Parmar, Jakob Uszkoreit, Llion Jones, Aidan N. Gomez, Lukasz Kaiser, Illia Polosukhin\n",
        "We propose a new simple network architecture, the Transformer, based solely on attention mechanisms, dispensing with recurrence and convolutions entirely.\n",
        "\"\"\"\n",
        "resp = react_chat.send_message(observation)\n",
        "print(resp.text)"
      ],
      "metadata": {
        "id": "mLMc0DZaV9g2",
        "trusted": true,
        "execution": {
          "iopub.status.busy": "2025-04-01T21:59:52.220092Z",
          "iopub.execute_input": "2025-04-01T21:59:52.220477Z",
          "iopub.status.idle": "2025-04-01T21:59:52.832272Z",
          "shell.execute_reply.started": "2025-04-01T21:59:52.220444Z",
          "shell.execute_reply": "2025-04-01T21:59:52.831303Z"
        },
        "outputId": "1b22f043-7071-48fa-d834-7bef866cf22d"
      },
      "outputs": [
        {
          "name": "stdout",
          "text": "Thought 2\nThe paper is \"Attention Is All You Need\". I need to find out the ages of each author to determine the youngest. This is not directly available. I will start by searching each author individually to look for birthdates or other age information.\n\nAction 2\n<search>Ashish Vaswani</search>\n\n",
          "output_type": "stream"
        }
      ],
      "execution_count": null
    },
    {
      "cell_type": "markdown",
      "source": [
        "This process repeats until the `<finish>` action is reached. You can continue running this yourself if you like, or try the [Wikipedia example](https://github.com/google-gemini/cookbook/blob/main/examples/Search_Wikipedia_using_ReAct.ipynb) to see a fully automated ReAct system at work."
      ],
      "metadata": {
        "id": "bo0tzf4nX6dA"
      }
    },
    {
      "cell_type": "markdown",
      "source": [
        "## Thinking mode\n",
        "\n",
        "The experiemental Gemini Flash 2.0 \"Thinking\" model has been trained to generate the \"thinking process\" the model goes through as part of its response. As a result, the Flash Thinking model is capable of stronger reasoning capabilities in its responses.\n",
        "\n",
        "Using a \"thinking mode\" model can provide you with high-quality responses without needing specialised prompting like the previous approaches. One reason this technique is effective is that you induce the model to generate relevant information (\"brainstorming\", or \"thoughts\") that is then used as part of the context in which the final response is generated.\n",
        "\n",
        "Note that when you use the API, you get the final response from the model, but the thoughts are not captured. To see the intermediate thoughts, try out [the thinking mode model in AI Studio](https://aistudio.google.com/prompts/new_chat?model=gemini-2.0-flash-thinking-exp-01-21).\n",
        "\n",
        "<table align=left>\n",
        "  <td>\n",
        "    <a target=\"_blank\" href=\"https://aistudio.google.com/prompts/1Z991SV7lZZZqioOiqIUPv9a9ix-ws4zk\"><img src=\"https://ai.google.dev/site-assets/images/marketing/home/icon-ais.png\" style=\"height: 24px\" height=24/> Open in AI Studio</a>\n",
        "  </td>\n",
        "</table>"
      ],
      "metadata": {
        "id": "53eLm9XPo9dq"
      }
    },
    {
      "cell_type": "code",
      "source": [
        "import io\n",
        "from IPython.display import Markdown, clear_output\n",
        "\n",
        "\n",
        "response = client.models.generate_content_stream(\n",
        "    model='gemini-2.0-flash-thinking-exp',\n",
        "    contents='Who was the youngest author listed on the transformers NLP paper?',\n",
        ")\n",
        "\n",
        "buf = io.StringIO()\n",
        "for chunk in response:\n",
        "    buf.write(chunk.text)\n",
        "    # Display the response as it is streamed\n",
        "    print(chunk.text, end='')\n",
        "\n",
        "# And then render the finished response as formatted markdown.\n",
        "clear_output()\n",
        "Markdown(buf.getvalue())"
      ],
      "metadata": {
        "trusted": true,
        "execution": {
          "iopub.status.busy": "2025-04-01T22:00:17.229448Z",
          "iopub.execute_input": "2025-04-01T22:00:17.230128Z",
          "iopub.status.idle": "2025-04-01T22:00:25.244876Z",
          "shell.execute_reply.started": "2025-04-01T22:00:17.230092Z",
          "shell.execute_reply": "2025-04-01T22:00:25.243929Z"
        },
        "id": "btjfyGdno9dr",
        "outputId": "5d0ec6ff-3dc8-49e0-c8dc-82674b27488e"
      },
      "outputs": [
        {
          "execution_count": 29,
          "output_type": "execute_result",
          "data": {
            "text/plain": "<IPython.core.display.Markdown object>",
            "text/markdown": "Based on the information available and general knowledge about the authors of the seminal \"Attention is All You Need\" paper (which is widely considered *the* \"transformers NLP paper\"), the youngest author is likely **Aidan N. Gomez**.\n\nHere's why:\n\n* **Aidan N. Gomez** was a PhD student at the University of Toronto at the time of the paper's publication in 2017. PhD students are generally younger compared to researchers and senior staff at companies like Google.  His research area during his PhD was directly related to neural networks and machine learning.\n\n* The other authors were affiliated with Google Brain and other research institutions, and generally appear to be more established researchers:\n    * **Ashish Vaswani, Noam Shazeer, Niki Parmar, Jakob Uszkoreit, Llion Jones, Łukasz Kaiser, and Illia Polosukhin** were all working at Google Brain at the time. Researchers in labs like Google Brain typically have more experience and are likely to be older than a PhD student.\n\n**Important Note:**\n\nIt's impossible to know definitively without knowing the exact birthdates of all authors. However, based on typical career paths and affiliations at the time of publication, it is highly probable that **Aidan N. Gomez**, being a PhD student, was the youngest author on the \"Attention is All You Need\" paper.\n\nTherefore, while we can't give an absolute age, **Aidan N. Gomez** is the most likely candidate for the youngest author."
          },
          "metadata": {}
        }
      ],
      "execution_count": null
    },
    {
      "cell_type": "markdown",
      "source": [
        "## Code prompting"
      ],
      "metadata": {
        "id": "jPiZ_eIIaVPt"
      }
    },
    {
      "cell_type": "markdown",
      "source": [
        "### Generating code\n",
        "\n",
        "The Gemini family of models can be used to generate code, configuration and scripts. Generating code can be helpful when learning to code, learning a new language or for rapidly generating a first draft.\n",
        "\n",
        "It's important to be aware that since LLMs can make mistakes, and can repeat training data, it's essential to read and test your code first, and comply with any relevant licenses.\n",
        "\n",
        "<table align=left>\n",
        "  <td>\n",
        "    <a target=\"_blank\" href=\"https://aistudio.google.com/prompts/1YX71JGtzDjXQkgdes8bP6i3oH5lCRKxv\"><img src=\"https://ai.google.dev/site-assets/images/marketing/home/icon-ais.png\" style=\"height: 24px\" height=24/> Open in AI Studio</a>\n",
        "  </td>\n",
        "</table>"
      ],
      "metadata": {
        "id": "ZinKamwXeR6C"
      }
    },
    {
      "cell_type": "code",
      "source": [
        "# The Gemini models love to talk, so it helps to specify they stick to the code if that\n",
        "# is all that you want.\n",
        "code_prompt = \"\"\"\n",
        "Write a Python function to calculate the factorial of a number. No explanation, provide only the code.\n",
        "\"\"\"\n",
        "\n",
        "response = client.models.generate_content(\n",
        "    model='gemini-2.0-flash',\n",
        "    config=types.GenerateContentConfig(\n",
        "        temperature=1,\n",
        "        top_p=1,\n",
        "        max_output_tokens=1024,\n",
        "    ),\n",
        "    contents=code_prompt)\n",
        "\n",
        "Markdown(response.text)"
      ],
      "metadata": {
        "id": "fOQP9pqmeUO1",
        "trusted": true,
        "execution": {
          "iopub.status.busy": "2025-04-01T22:00:49.144645Z",
          "iopub.execute_input": "2025-04-01T22:00:49.14585Z",
          "iopub.status.idle": "2025-04-01T22:00:49.985211Z",
          "shell.execute_reply.started": "2025-04-01T22:00:49.145789Z",
          "shell.execute_reply": "2025-04-01T22:00:49.984083Z"
        },
        "outputId": "eef48865-b4dc-4dfe-d9cf-696c9191935e"
      },
      "outputs": [
        {
          "execution_count": 30,
          "output_type": "execute_result",
          "data": {
            "text/plain": "<IPython.core.display.Markdown object>",
            "text/markdown": "```python\ndef factorial(n):\n  \"\"\"\n  Calculate the factorial of a number.\n\n  Args:\n    n: The number for which to calculate the factorial.\n\n  Returns:\n    The factorial of n.\n  \"\"\"\n  if n == 0:\n    return 1\n  else:\n    return n * factorial(n-1)\n```\n"
          },
          "metadata": {}
        }
      ],
      "execution_count": null
    },
    {
      "cell_type": "markdown",
      "source": [
        "### Code execution\n",
        "\n",
        "The Gemini API can automatically run generated code too, and will return the output.\n",
        "\n",
        "<table align=left>\n",
        "  <td>\n",
        "    <a target=\"_blank\" href=\"https://aistudio.google.com/prompts/11veFr_VYEwBWcLkhNLr-maCG0G8sS_7Z\"><img src=\"https://ai.google.dev/site-assets/images/marketing/home/icon-ais.png\" style=\"height: 24px\" height=24/> Open in AI Studio</a>\n",
        "  </td>\n",
        "</table>"
      ],
      "metadata": {
        "id": "wlBMWSFhgVRQ"
      }
    },
    {
      "cell_type": "code",
      "source": [
        "from pprint import pprint\n",
        "\n",
        "config = types.GenerateContentConfig(\n",
        "    tools=[types.Tool(code_execution=types.ToolCodeExecution())],\n",
        ")\n",
        "\n",
        "code_exec_prompt = \"\"\"\n",
        "Generate the first 14 odd prime numbers, then calculate their sum.\n",
        "\"\"\"\n",
        "\n",
        "response = client.models.generate_content(\n",
        "    model='gemini-2.0-flash',\n",
        "    config=config,\n",
        "    contents=code_exec_prompt)\n",
        "\n",
        "for part in response.candidates[0].content.parts:\n",
        "  pprint(part.to_json_dict())\n",
        "  print(\"-----\")"
      ],
      "metadata": {
        "id": "jT3OfWYfhjRL",
        "trusted": true,
        "execution": {
          "iopub.status.busy": "2025-04-01T22:01:54.095297Z",
          "iopub.execute_input": "2025-04-01T22:01:54.096288Z",
          "iopub.status.idle": "2025-04-01T22:01:56.004154Z",
          "shell.execute_reply.started": "2025-04-01T22:01:54.096233Z",
          "shell.execute_reply": "2025-04-01T22:01:56.002973Z"
        },
        "outputId": "847ed16b-13a9-4fe7-d586-e5baa17a45a9"
      },
      "outputs": [
        {
          "name": "stdout",
          "text": "{'text': \"Okay, I understand. First, I'll generate the first 14 odd prime \"\n         'numbers. Remember that a prime number is a number greater than 1 '\n         'that has only two divisors: 1 and itself. Odd prime numbers are '\n         'prime numbers that are not divisible by 2. The first prime number is '\n         '2, so the first odd prime number is 3.\\n'\n         '\\n'\n         \"Then, I'll sum these 14 numbers.\\n\"\n         '\\n'}\n-----\n{'executable_code': {'code': 'primes = [3, 5, 7, 11, 13, 17, 19, 23, 29, 31, '\n                             '37, 41, 43, 47]\\n'\n                             'sum_of_primes = sum(primes)\\n'\n                             \"print(f'{primes=}')\\n\"\n                             \"print(f'{sum_of_primes=}')\\n\",\n                     'language': 'PYTHON'}}\n-----\n{'code_execution_result': {'outcome': 'OUTCOME_OK',\n                           'output': 'primes=[3, 5, 7, 11, 13, 17, 19, 23, 29, '\n                                     '31, 37, 41, 43, 47]\\n'\n                                     'sum_of_primes=326\\n'}}\n-----\n{'text': 'The first 14 odd prime numbers are 3, 5, 7, 11, 13, 17, 19, 23, 29, '\n         '31, 37, 41, 43, and 47. Their sum is 326.\\n'}\n-----\n",
          "output_type": "stream"
        }
      ],
      "execution_count": null
    },
    {
      "cell_type": "markdown",
      "source": [
        "This response contains multiple parts, including an opening and closing text part that represent regular responses, an `executable_code` part that represents generated code and a `code_execution_result` part that represents the results from running the generated code.\n",
        "\n",
        "You can explore them individually."
      ],
      "metadata": {
        "id": "ZspT1GSkjG6d"
      }
    },
    {
      "cell_type": "code",
      "source": [
        "for part in response.candidates[0].content.parts:\n",
        "    if part.text:\n",
        "        display(Markdown(part.text))\n",
        "    elif part.executable_code:\n",
        "        display(Markdown(f'```python\\n{part.executable_code.code}\\n```'))\n",
        "    elif part.code_execution_result:\n",
        "        if part.code_execution_result.outcome != 'OUTCOME_OK':\n",
        "            display(Markdown(f'## Status {part.code_execution_result.outcome}'))\n",
        "\n",
        "        display(Markdown(f'```\\n{part.code_execution_result.output}\\n```'))"
      ],
      "metadata": {
        "trusted": true,
        "execution": {
          "iopub.status.busy": "2025-04-01T22:02:04.379489Z",
          "iopub.execute_input": "2025-04-01T22:02:04.380015Z",
          "iopub.status.idle": "2025-04-01T22:02:04.392805Z",
          "shell.execute_reply.started": "2025-04-01T22:02:04.379977Z",
          "shell.execute_reply": "2025-04-01T22:02:04.391685Z"
        },
        "id": "_TLURz9bo9ds",
        "outputId": "e57f6ad0-de2f-410a-8bc7-56efdf7cbb4a"
      },
      "outputs": [
        {
          "output_type": "display_data",
          "data": {
            "text/plain": "<IPython.core.display.Markdown object>",
            "text/markdown": "Okay, I understand. First, I'll generate the first 14 odd prime numbers. Remember that a prime number is a number greater than 1 that has only two divisors: 1 and itself. Odd prime numbers are prime numbers that are not divisible by 2. The first prime number is 2, so the first odd prime number is 3.\n\nThen, I'll sum these 14 numbers.\n\n"
          },
          "metadata": {}
        },
        {
          "output_type": "display_data",
          "data": {
            "text/plain": "<IPython.core.display.Markdown object>",
            "text/markdown": "```python\nprimes = [3, 5, 7, 11, 13, 17, 19, 23, 29, 31, 37, 41, 43, 47]\nsum_of_primes = sum(primes)\nprint(f'{primes=}')\nprint(f'{sum_of_primes=}')\n\n```"
          },
          "metadata": {}
        },
        {
          "output_type": "display_data",
          "data": {
            "text/plain": "<IPython.core.display.Markdown object>",
            "text/markdown": "```\nprimes=[3, 5, 7, 11, 13, 17, 19, 23, 29, 31, 37, 41, 43, 47]\nsum_of_primes=326\n\n```"
          },
          "metadata": {}
        },
        {
          "output_type": "display_data",
          "data": {
            "text/plain": "<IPython.core.display.Markdown object>",
            "text/markdown": "The first 14 odd prime numbers are 3, 5, 7, 11, 13, 17, 19, 23, 29, 31, 37, 41, 43, and 47. Their sum is 326.\n"
          },
          "metadata": {}
        }
      ],
      "execution_count": null
    },
    {
      "cell_type": "markdown",
      "source": [
        "### Explaining code\n",
        "\n",
        "The Gemini family of models can explain code to you too. In this example, you pass a [bash script](https://github.com/magicmonty/bash-git-prompt) and ask some questions.\n",
        "\n",
        "<table align=left>\n",
        "  <td>\n",
        "    <a target=\"_blank\" href=\"https://aistudio.google.com/prompts/1N7LGzWzCYieyOf_7bAG4plrmkpDNmUyb\"><img src=\"https://ai.google.dev/site-assets/images/marketing/home/icon-ais.png\" style=\"height: 24px\" height=24/> Open in AI Studio</a>\n",
        "  </td>\n",
        "</table>"
      ],
      "metadata": {
        "id": "1gUX8QzCj4d5"
      }
    },
    {
      "cell_type": "code",
      "source": [
        "file_contents = !curl https://raw.githubusercontent.com/magicmonty/bash-git-prompt/refs/heads/master/gitprompt.sh\n",
        "\n",
        "explain_prompt = f\"\"\"\n",
        "Please explain what this file does at a very high level. What is it, and why would I use it?\n",
        "\n",
        "```\n",
        "{file_contents}\n",
        "```\n",
        "\"\"\"\n",
        "\n",
        "response = client.models.generate_content(\n",
        "    model='gemini-2.0-flash',\n",
        "    contents=explain_prompt)\n",
        "\n",
        "Markdown(response.text)"
      ],
      "metadata": {
        "id": "7_jPMMoxkIEb",
        "trusted": true,
        "execution": {
          "iopub.status.busy": "2025-04-01T22:02:28.554684Z",
          "iopub.execute_input": "2025-04-01T22:02:28.555631Z",
          "iopub.status.idle": "2025-04-01T22:02:30.768391Z",
          "shell.execute_reply.started": "2025-04-01T22:02:28.555594Z",
          "shell.execute_reply": "2025-04-01T22:02:30.767397Z"
        },
        "outputId": "40c5167c-c199-4468-f60e-e53542a1c39e"
      },
      "outputs": [
        {
          "execution_count": 33,
          "output_type": "execute_result",
          "data": {
            "text/plain": "<IPython.core.display.Markdown object>",
            "text/markdown": "This file is a shell script designed to enhance your command-line prompt with information about the current Git repository.  It's commonly known as `bash-git-prompt` (though compatible with zsh as well), and its main purpose is to give you a quick visual overview of your Git status directly in your prompt.\n\n**Here's a high-level breakdown:**\n\n*   **What it is:** A script that adds Git-related information to your shell prompt.\n\n*   **Why use it:**\n    *   **Git Status at a Glance:** It shows you the current branch, whether you have staged or unstaged changes, if you are ahead or behind the remote branch, and other useful Git status indicators. This saves you from having to constantly run `git status`.\n    *   **Customization:**  It's highly customizable, allowing you to change the colors, symbols, and information displayed in the prompt.\n    *   **Improved Workflow:** By readily providing Git status, it can make you more aware of your repository's state and streamline your Git workflow.\n    * **Virtual Environment Support** This also has support for your virtual enviornment such as `venv`, `node`, and `conda` environments.\n\n**In essence, it's a productivity tool that integrates Git information directly into your command-line experience.**  You'd typically source this script in your `.bashrc` or `.zshrc` file to activate it.\n"
          },
          "metadata": {}
        }
      ],
      "execution_count": null
    },
    {
      "cell_type": "markdown",
      "source": [
        "## Learn more\n",
        "\n",
        "To learn more about prompting in depth:\n",
        "\n",
        "* Check out the whitepaper issued with today's content,\n",
        "* Try out the apps listed at the top of this notebook ([TextFX](https://textfx.withgoogle.com/), [SQL Talk](https://sql-talk-r5gdynozbq-uc.a.run.app/) and [NotebookLM](https://notebooklm.google/)),\n",
        "* Read the [Introduction to Prompting](https://ai.google.dev/gemini-api/docs/prompting-intro) from the Gemini API docs,\n",
        "* Explore the Gemini API's [prompt gallery](https://ai.google.dev/gemini-api/prompts) and try them out in AI Studio,\n",
        "* Check out the Gemini API cookbook for [inspirational examples](https://github.com/google-gemini/cookbook/blob/main/examples/) and [educational quickstarts](https://github.com/google-gemini/cookbook/blob/main/quickstarts/).\n",
        "\n",
        "Be sure to check out the codelabs on day 3 too, where you will explore some more advanced prompting with code execution.\n",
        "\n",
        "And please share anything exciting you have tried in the Discord!\n",
        "\n",
        "*- [Mark McD](https://linktr.ee/markmcd)*"
      ],
      "metadata": {
        "id": "2a8266d97ce5"
      }
    }
  ]
}